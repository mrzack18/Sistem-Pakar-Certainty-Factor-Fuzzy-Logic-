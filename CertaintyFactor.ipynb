{
  "nbformat": 4,
  "nbformat_minor": 0,
  "metadata": {
    "colab": {
      "provenance": [],
      "authorship_tag": "ABX9TyOJCdWE7ACR4Eq1he97pOVB",
      "include_colab_link": true
    },
    "kernelspec": {
      "name": "python3",
      "display_name": "Python 3"
    },
    "language_info": {
      "name": "python"
    }
  },
  "cells": [
    {
      "cell_type": "markdown",
      "metadata": {
        "id": "view-in-github",
        "colab_type": "text"
      },
      "source": [
        "<a href=\"https://colab.research.google.com/github/mrzack18/Sistem-Pakar-Certainty-Factor-Fuzzy-Logic-/blob/main/CertaintyFactor.ipynb\" target=\"_parent\"><img src=\"https://colab.research.google.com/assets/colab-badge.svg\" alt=\"Open In Colab\"/></a>"
      ]
    },
    {
      "cell_type": "markdown",
      "source": [
        "# **1. Ubah nilai CF gejala dan amati perubahan hasil**\n",
        "Misalnya mengubah \"demam\": 0.3 dari sebelumnya 0.7, \"batuk\": 0.6 dari sebelumnya 0.5, dan \"sakit_tenggorokan\": 0.6 dari sebelumnya 0.4 lalu jalankan kembali fungsi hitung_cf.\n",
        "\n"
      ],
      "metadata": {
        "id": "Y688vMDq5jGZ"
      }
    },
    {
      "cell_type": "code",
      "execution_count": 32,
      "metadata": {
        "colab": {
          "base_uri": "https://localhost:8080/"
        },
        "id": "isNDBhg01Se-",
        "outputId": "c6c67b1a-2219-48ca-8d93-5817ba76128c"
      },
      "outputs": [
        {
          "output_type": "stream",
          "name": "stdout",
          "text": [
            "CF diagnosis Flu setelah demam jadi 0.3 dan batuk 0.6 hasilnya = 0.72\n"
          ]
        }
      ],
      "source": [
        "# Gejala user (demam diubah menjadi 0.3, batuk menjadi 0.6 dan sakit tenggorokan 0.6)\n",
        "gejala_user = {\n",
        "    \"demam\": 0.3,\n",
        "    \"batuk\": 0.6,\n",
        "    \"sakit_tenggorokan\": 0.6\n",
        "}\n",
        "\n",
        "# Pengetahuan Pakar\n",
        "pengetahuan = {\n",
        "    \"flu\": {\n",
        "        \"demam\": 0.8,\n",
        "        \"batuk\": 0.7,\n",
        "        \"sakit_tenggorokan\": 0.6\n",
        "    }\n",
        "}\n",
        "\n",
        "# Fungsi perhitungan CF\n",
        "def hitung_cf(gejala_user, pengetahuan_pakar):\n",
        "    cf_total = 0\n",
        "    first = True\n",
        "    for gejala, cf_user in gejala_user.items():\n",
        "        if gejala in pengetahuan_pakar:\n",
        "            cf_pakar = pengetahuan_pakar[gejala]\n",
        "            cf = cf_user * cf_pakar\n",
        "            if first:\n",
        "                cf_total = cf\n",
        "                first = False\n",
        "            else:\n",
        "                cf_total = cf_total + cf * (1 - cf_total)\n",
        "    return cf_total\n",
        "\n",
        "# Hasil CF Flu\n",
        "cf_flu = hitung_cf(gejala_user, pengetahuan[\"flu\"])\n",
        "print(f\"CF diagnosis Flu setelah demam jadi 0.3 dan batuk 0.6 hasilnya = {cf_flu:.2f}\")"
      ]
    },
    {
      "cell_type": "markdown",
      "source": [
        "# **2. Tambahkan 5 gejala baru beserta nilai CF**"
      ],
      "metadata": {
        "id": "w3wFyyCh8oEI"
      }
    },
    {
      "cell_type": "code",
      "source": [
        "# Gejala user (demam diubah menjadi 0.3 & batuk menjadi 0.6, dengan tambahan 5 gejala)\n",
        "gejala_user = {\n",
        "    \"demam\": 0.3,\n",
        "    \"batuk\": 0.6,\n",
        "    \"sakit_tenggorokan\": 0.6,\n",
        "    \"pilek\": 0.7,\n",
        "    \"sakit_kepala\": 0.6,\n",
        "    \"nyeri_otot\": 0.4,\n",
        "    \"kelelahan\": 0.5,\n",
        "    \"hidung_tersumbat\": 0.3\n",
        "}\n",
        "\n",
        "# Pengetahuan pakar tetap (dengan tambahan 5 gejala)\n",
        "pengetahuan = {\n",
        "    \"flu\": {\n",
        "        \"demam\": 0.8,\n",
        "        \"batuk\": 0.7,\n",
        "        \"sakit_tenggorokan\": 0.6,\n",
        "        \"pilek\": 0.7,\n",
        "        \"sakit_kepala\": 0.5,\n",
        "        \"nyeri_otot\": 0.6,\n",
        "        \"kelelahan\": 0.5,\n",
        "        \"hidung_tersumbat\": 0.4\n",
        "    }\n",
        "}\n",
        "\n",
        "# Fungsi perhitungan CF\n",
        "def hitung_cf(gejala_user, pengetahuan_pakar):\n",
        "    cf_total = 0\n",
        "    first = True\n",
        "    for gejala, cf_user in gejala_user.items():\n",
        "        if gejala in pengetahuan_pakar:\n",
        "            cf_pakar = pengetahuan_pakar[gejala]\n",
        "            cf = cf_user * cf_pakar\n",
        "            if first:\n",
        "                cf_total = cf\n",
        "                first = False\n",
        "            else:\n",
        "                cf_total = cf_total + cf * (1 - cf_total)\n",
        "    return cf_total\n",
        "\n",
        "# Hasil CF Flu\n",
        "cf_flu = hitung_cf(gejala_user, pengetahuan[\"flu\"])\n",
        "print(f\"CF diagnosis Flu setelah penambahan 5 gejala hasilnya = {cf_flu:.2f}\")"
      ],
      "metadata": {
        "colab": {
          "base_uri": "https://localhost:8080/"
        },
        "id": "9oskUXT386QQ",
        "outputId": "4463f152-c841-47f6-e245-2349c83245d0"
      },
      "execution_count": 33,
      "outputs": [
        {
          "output_type": "stream",
          "name": "stdout",
          "text": [
            "CF diagnosis Flu setelah penambahan 5 gejala hasilnya = 0.95\n"
          ]
        }
      ]
    },
    {
      "cell_type": "markdown",
      "source": [
        "# **3. Jika \"demam\" diubah jadi 0.2, bagaimana hasilnya? Mengapa?**"
      ],
      "metadata": {
        "id": "tJJctyU2FNva"
      }
    },
    {
      "cell_type": "code",
      "source": [
        "# Gejala user (demam diubah menjadi 0.2)\n",
        "gejala_user = {\n",
        "    \"demam\": 0.2,\n",
        "    \"batuk\": 0.6,\n",
        "    \"sakit_tenggorokan\": 0.6,\n",
        "    \"pilek\": 0.7,\n",
        "    \"sakit_kepala\": 0.6,\n",
        "    \"nyeri_otot\": 0.4,\n",
        "    \"kelelahan\": 0.5,\n",
        "    \"hidung_tersumbat\": 0.3\n",
        "}\n",
        "\n",
        "# Pengetahuan pakar tetap (dengan tambahan 5 gejala)\n",
        "pengetahuan = {\n",
        "    \"flu\": {\n",
        "        \"demam\": 0.8,\n",
        "        \"batuk\": 0.7,\n",
        "        \"sakit_tenggorokan\": 0.6,\n",
        "        \"pilek\": 0.7,\n",
        "        \"sakit_kepala\": 0.5,\n",
        "        \"nyeri_otot\": 0.6,\n",
        "        \"kelelahan\": 0.5,\n",
        "        \"hidung_tersumbat\": 0.4\n",
        "    }\n",
        "}\n",
        "\n",
        "# Fungsi perhitungan CF\n",
        "def hitung_cf(gejala_user, pengetahuan_pakar):\n",
        "    cf_total = 0\n",
        "    first = True\n",
        "    for gejala, cf_user in gejala_user.items():\n",
        "        if gejala in pengetahuan_pakar:\n",
        "            cf_pakar = pengetahuan_pakar[gejala]\n",
        "            cf = cf_user * cf_pakar\n",
        "            if first:\n",
        "                cf_total = cf\n",
        "                first = False\n",
        "            else:\n",
        "                cf_total = cf_total + cf * (1 - cf_total)\n",
        "    return cf_total\n",
        "\n",
        "# Hasil CF Flu\n",
        "cf_flu = hitung_cf(gejala_user, pengetahuan[\"flu\"])\n",
        "print(f\"CF diagnosis Flu setelah penambahan 5 gejala hasilnya = {cf_flu:.2f}\")"
      ],
      "metadata": {
        "colab": {
          "base_uri": "https://localhost:8080/"
        },
        "id": "Z68beSl-E59i",
        "outputId": "7820afdb-ae9e-4c07-cbbe-c9c59e1906ab"
      },
      "execution_count": 34,
      "outputs": [
        {
          "output_type": "stream",
          "name": "stdout",
          "text": [
            "CF diagnosis Flu setelah penambahan 5 gejala hasilnya = 0.94\n"
          ]
        }
      ]
    },
    {
      "cell_type": "markdown",
      "source": [
        "**Gejala User (Dengan \"demam\" = 0.2)**\n",
        "\n",
        "```python\n",
        "gejala_user = {\n",
        "    \"demam\": 0.2, #diubah dari asalnya 3\n",
        "    \"batuk\": 0.6,\n",
        "    \"sakit_tenggorokan\": 0.6,\n",
        "    \"pilek\": 0.7,\n",
        "    \"sakit_kepala\": 0.6,\n",
        "    \"nyeri_otot\": 0.4,\n",
        "    \"kelelahan\": 0.5,\n",
        "    \"hidung_tersumbat\": 0.3\n",
        "}\n",
        "\n",
        "pengetahuan = {\n",
        "    \"flu\": {\n",
        "        \"demam\": 0.8,\n",
        "        \"batuk\": 0.7,\n",
        "        \"sakit_tenggorokan\": 0.6,\n",
        "        \"pilek\": 0.7,\n",
        "        \"sakit_kepala\": 0.5,\n",
        "        \"nyeri_otot\": 0.6,\n",
        "        \"kelelahan\": 0.5,\n",
        "        \"hidung_tersumbat\": 0.4\n",
        "    }\n",
        "}\n",
        "```\n",
        "\n",
        "**Perhitungan Langkah per Langkah**\n",
        "\n",
        "1. demam: 0.2 × 0.8 = 0.16\n",
        "2. batuk: 0.6 × 0.7 = 0.42  \n",
        "   `cf = 0.16 + 0.42 * (1 - 0.16) = 0.5128`\n",
        "3. sakit_tenggorokan: 0.6 × 0.6 = 0.36  \n",
        "   `cf = 0.5128 + 0.36 * (1 - 0.5128) = 0.6875`\n",
        "4. pilek: 0.7 × 0.7 = 0.49  \n",
        "   `cf = 0.6875 + 0.49 * (1 - 0.6875) = 0.8409`\n",
        "5. sakit_kepala: 0.6 × 0.5 = 0.3  \n",
        "   `cf = 0.8409 + 0.3 * (1 - 0.8409) = 0.8886`\n",
        "6. nyeri_otot: 0.4 × 0.6 = 0.24  \n",
        "   `cf = 0.8886 + 0.24 * (1 - 0.8886) = 0.9154`\n",
        "7. kelelahan: 0.5 × 0.5 = 0.25  \n",
        "   `cf = 0.9154 + 0.25 * (1 - 0.9154) = 0.9366`\n",
        "8. hidung_tersumbat: 0.3 × 0.4 = 0.12  \n",
        "   `cf = 0.9366 + 0.12 * (1 - 0.9366) = 0.9442`\n",
        "\n",
        "**Hasil Akhir**\n",
        "\n",
        "```python\n",
        "CF diagnosis Flu ≈ 0.9442 -> Dibulatkan menjadi 0.94\n",
        "```\n",
        "\n",
        "**Kenapa Nilainya Menurun Saat \"demam\" Jadi 0.2?**\n",
        "\n",
        "- Karena nilai awal CF lebih kecil, maka efek penguatan dari gejala selanjutnya juga lebih kecil.\n",
        "- \"Demam\" punya bobot besar di pengetahuan pakar (0.8), jadi menurunkan nilainya mengurangi kekuatan akumulasi CF secara signifikan.\n",
        "- Metode kombinasi CF sensitif terhadap urutan dan nilai awal gejala."
      ],
      "metadata": {
        "id": "_gfWqeTB9Jit"
      }
    },
    {
      "cell_type": "markdown",
      "source": [
        "# **4. Jelaskan bagaimana hasil perubahannya  dalam bentuk komentar atau teks cell**\n",
        "Penjelasan :\n",
        "> Perubahan Data :\n",
        "1. Nilai gejala diubah:\n",
        "* demam dari 0.7 ➝ 0.3\n",
        "* batuk dari 0.5 ➝ 0.6\n",
        "* sakit_tenggorokan dari 0.4 ➝ 0.6\n",
        "2. Penambahan 5 gejala baru:\n",
        "* pilek: 0.7\n",
        "* sakit_kepala: 0.6\n",
        "* nyeri_otot: 0.4\n",
        "* kelelahan: 0.5\n",
        "* hidung_tersumbat: 0.3\n",
        "\n",
        ">Dampak terhadap Perhitungan CF:\n",
        "1. Semakin banyak gejala yang relevan dengan pengetahuan pakar, maka nilai CF total bisa meningkat — jika gejala tersebut memiliki kontribusi signifikan (nilai user dan pakar sama-sama tinggi).\n",
        "2. Dalam diagnosa ini:\n",
        "* Meskipun nilai demam (komponen besar sebelumnya) diturunkan, penambahan 5 gejala baru dengan nilai CF moderat memberikan kontribusi tambahan yang positif.\n",
        "* Proses kombinasi CF menggunakan rumus:\n",
        "       CF_total = CF1 + CF2 * (1 - CF1)\n",
        "\n",
        ">Hasil Diagnosa:\n",
        "* Sebelumnya (3 gejala): hasil CF kemungkinan lebih rendah, sekitar 0.72\n",
        "* Setelah penambahan (8 gejala): hasil CF menjadi lebih tinggi karena lebih banyak gejala cocok, menjadi 0.95\n",
        "\n"
      ],
      "metadata": {
        "id": "_naTcBHw-V7W"
      }
    }
  ]
}